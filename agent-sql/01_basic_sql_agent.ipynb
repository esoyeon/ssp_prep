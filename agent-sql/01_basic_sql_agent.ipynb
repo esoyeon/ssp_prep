{
  "cells": [
    {
      "cell_type": "markdown",
      "metadata": {},
      "source": [
        "# 기본 SQL Agent 튜토리얼\n",
        "\n",
        "이 노트북은 LangGraph를 사용하여 간단한 SQL Agent를 구현하는 기본적인 예제입니다.\n",
        "Agent와 LangGraph의 기본기를 알고 있는 학생들을 위한 입문 수준의 SQL Agent입니다.\n",
        "\n",
        "## 주요 학습 목표:\n",
        "1. SQL 데이터베이스와 상호작용하는 기본적인 Agent 구조 이해\n",
        "2. LangGraph를 사용한 간단한 워크플로우 구현\n",
        "3. SQL 도구 사용법 및 오류 처리 기초\n",
        "\n",
        "## 진행 순서:\n",
        "1. 환경 설정 및 라이브러리 임포트\n",
        "2. 데이터베이스 설정\n",
        "3. Agent 상태 및 도구 정의\n",
        "4. 기본 SQL Agent 구현\n",
        "5. Agent 실행 및 테스트\n"
      ]
    },
    {
      "cell_type": "markdown",
      "metadata": {},
      "source": [
        "## 1. 환경 설정 및 라이브러리 임포트\n",
        "\n",
        "필요한 라이브러리들을 임포트하고 환경을 설정합니다.\n"
      ]
    },
    {
      "cell_type": "code",
      "execution_count": 1,
      "metadata": {},
      "outputs": [
        {
          "name": "stdout",
          "output_type": "stream",
          "text": [
            "✅ 라이브러리 임포트 완료!\n"
          ]
        }
      ],
      "source": [
        "import os\n",
        "import requests\n",
        "from typing import Annotated, Literal, TypedDict\n",
        "\n",
        "from dotenv import load_dotenv\n",
        "\n",
        "from langchain_core.messages import AIMessage, HumanMessage, ToolMessage\n",
        "from langchain_core.tools import tool\n",
        "from langchain_openai import ChatOpenAI\n",
        "from langchain_community.utilities import SQLDatabase\n",
        "from langchain_community.agent_toolkits import SQLDatabaseToolkit\n",
        "\n",
        "from langgraph.graph import StateGraph, START, END\n",
        "from langgraph.graph.message import AnyMessage, add_messages\n",
        "from langgraph.prebuilt import ToolNode\n",
        "from langgraph.checkpoint.memory import MemorySaver\n",
        "\n",
        "# 환경 변수 로드\n",
        "load_dotenv()\n",
        "\n",
        "print(\"✅ 라이브러리 임포트 완료!\")\n"
      ]
    },
    {
      "cell_type": "markdown",
      "metadata": {},
      "source": [
        "## 2. 데이터베이스 설정\n",
        "\n",
        "Chinook 샘플 데이터베이스를 다운로드하고 SQLDatabase 인스턴스를 생성합니다.\n"
      ]
    },
    {
      "cell_type": "code",
      "execution_count": 2,
      "metadata": {},
      "outputs": [
        {
          "name": "stdout",
          "output_type": "stream",
          "text": [
            "이미 데이터베이스 파일이 존재합니다.\n",
            "사용 가능한 테이블: ['Album', 'Artist', 'Customer', 'Employee', 'Genre', 'Invoice', 'InvoiceLine', 'MediaType', 'Playlist', 'PlaylistTrack', 'Track']\n"
          ]
        }
      ],
      "source": [
        "def setup_database():\n",
        "    \"\"\"Chinook 샘플 데이터베이스를 다운로드하고 설정합니다.\"\"\"\n",
        "    \n",
        "    # Chinook 데이터베이스 다운로드\n",
        "    url = \"https://storage.googleapis.com/benchmarks-artifacts/chinook/Chinook.db\"\n",
        "    \n",
        "    if not os.path.exists(\"Chinook.db\"):\n",
        "        print(\"Chinook 데이터베이스를 다운로드 중...\")\n",
        "        response = requests.get(url)\n",
        "        \n",
        "        if response.status_code == 200:\n",
        "            with open(\"Chinook.db\", \"wb\") as file:\n",
        "                file.write(response.content)\n",
        "            print(\"데이터베이스 다운로드 완료!\")\n",
        "        else:\n",
        "            raise Exception(f\"데이터베이스 다운로드 실패: {response.status_code}\")\n",
        "    else:\n",
        "        print(\"이미 데이터베이스 파일이 존재합니다.\")\n",
        "    \n",
        "    # SQLDatabase 인스턴스 생성\n",
        "    db = SQLDatabase.from_uri(\"sqlite:///Chinook.db\")\n",
        "    print(f\"사용 가능한 테이블: {db.get_usable_table_names()}\")\n",
        "    \n",
        "    return db\n",
        "\n",
        "# 데이터베이스 설정 실행\n",
        "db = setup_database()\n"
      ]
    },
    {
      "cell_type": "markdown",
      "metadata": {},
      "source": [
        "## 3. Agent 상태 및 도구 정의\n",
        "\n",
        "Agent의 상태와 SQL 쿼리 실행 도구를 정의합니다.\n"
      ]
    },
    {
      "cell_type": "code",
      "execution_count": 3,
      "metadata": {},
      "outputs": [
        {
          "name": "stdout",
          "output_type": "stream",
          "text": [
            "✅ 상태 및 도구 정의 완료!\n"
          ]
        }
      ],
      "source": [
        "# Agent 상태 정의\n",
        "class State(TypedDict):\n",
        "    messages: Annotated[list[AnyMessage], add_messages]\n",
        "\n",
        "# SQL 쿼리 실행 도구 정의\n",
        "@tool\n",
        "def execute_sql_query(query: str) -> str:\n",
        "    \"\"\"\n",
        "    SQL 쿼리를 실행하고 결과를 반환합니다.\n",
        "    오류가 발생하면 오류 메시지를 반환합니다.\n",
        "    \"\"\"\n",
        "    try:\n",
        "        result = db.run(query)\n",
        "        return str(result)\n",
        "    except Exception as e:\n",
        "        return f\"쿼리 실행 오류: {str(e)}\"\n",
        "\n",
        "print(\"✅ 상태 및 도구 정의 완료!\")\n"
      ]
    },
    {
      "cell_type": "markdown",
      "metadata": {},
      "source": [
        "## 4. 기본 SQL Agent 구현\n",
        "\n",
        "LangGraph를 사용하여 기본적인 SQL Agent를 구현합니다.\n"
      ]
    },
    {
      "cell_type": "code",
      "execution_count": 4,
      "metadata": {},
      "outputs": [
        {
          "name": "stdout",
          "output_type": "stream",
          "text": [
            "✅ 기본 SQL Agent 생성 완료!\n"
          ]
        }
      ],
      "source": [
        "def create_basic_sql_agent():\n",
        "    \"\"\"기본적인 SQL Agent를 생성합니다.\"\"\"\n",
        "    \n",
        "    # LLM 초기화\n",
        "    llm = ChatOpenAI(model=\"gpt-4o-mini\", temperature=0)\n",
        "    \n",
        "    # 도구 목록\n",
        "    tools = [execute_sql_query]\n",
        "    \n",
        "    # 도구가 바인딩된 LLM\n",
        "    llm_with_tools = llm.bind_tools(tools)\n",
        "    \n",
        "    # Agent 노드 정의\n",
        "    def agent_node(state: State):\n",
        "        \"\"\"Agent가 사용자 질문을 분석하고 적절한 도구를 호출합니다.\"\"\"\n",
        "        \n",
        "        # 시스템 메시지 추가\n",
        "        system_message = \"\"\"당신은 SQL 데이터베이스 전문가입니다.\n",
        "        \n",
        "사용자의 질문을 분석하여 적절한 SQL 쿼리를 작성하고 실행하세요.\n",
        "        \n",
        "데이터베이스 정보:\n",
        "- Chinook 음악 스토어 데이터베이스\n",
        "- 주요 테이블: Artist, Album, Track, Customer, Invoice, Employee 등\n",
        "\n",
        "다음 단계를 따르세요:\n",
        "1. 사용자 질문 분석\n",
        "2. 적절한 SQL 쿼리 작성\n",
        "3. execute_sql_query 도구를 사용하여 쿼리 실행\n",
        "4. 결과를 사용자가 이해하기 쉽게 설명\n",
        "\n",
        "주의사항:\n",
        "- SELECT 쿼리만 사용하세요 (INSERT, UPDATE, DELETE 금지)\n",
        "- 쿼리는 정확한 SQLite 문법을 사용하세요\n",
        "\"\"\"\n",
        "        \n",
        "        messages = [AIMessage(content=system_message)] + state[\"messages\"]\n",
        "        response = llm_with_tools.invoke(messages)\n",
        "        return {\"messages\": [response]}\n",
        "    \n",
        "    # 도구 노드\n",
        "    tool_node = ToolNode(tools)\n",
        "    \n",
        "    # 라우팅 함수\n",
        "    def should_continue(state: State) -> Literal[\"tools\", \"end\"]:\n",
        "        \"\"\"다음 단계를 결정합니다.\"\"\"\n",
        "        last_message = state[\"messages\"][-1]\n",
        "        \n",
        "        if hasattr(last_message, 'tool_calls') and last_message.tool_calls:\n",
        "            return \"tools\"\n",
        "        else:\n",
        "            return \"end\"\n",
        "    \n",
        "    # 그래프 생성\n",
        "    workflow = StateGraph(State)\n",
        "    \n",
        "    # 노드 추가\n",
        "    workflow.add_node(\"agent\", agent_node)\n",
        "    workflow.add_node(\"tools\", tool_node)\n",
        "    \n",
        "    # 엣지 추가\n",
        "    workflow.add_edge(START, \"agent\")\n",
        "    workflow.add_conditional_edges(\n",
        "        \"agent\",\n",
        "        should_continue,\n",
        "        {\n",
        "            \"tools\": \"tools\",\n",
        "            \"end\": END\n",
        "        }\n",
        "    )\n",
        "    workflow.add_edge(\"tools\", \"agent\")\n",
        "    \n",
        "    # 그래프 컴파일\n",
        "    app = workflow.compile(checkpointer=MemorySaver())\n",
        "    \n",
        "    return app\n",
        "\n",
        "# Agent 생성\n",
        "app = create_basic_sql_agent()\n",
        "print(\"✅ 기본 SQL Agent 생성 완료!\")\n"
      ]
    },
    {
      "cell_type": "markdown",
      "metadata": {},
      "source": [
        "## 5. Agent 실행 함수 정의\n",
        "\n",
        "Agent를 실행하고 결과를 출력하는 함수를 정의합니다.\n"
      ]
    },
    {
      "cell_type": "code",
      "execution_count": 5,
      "metadata": {},
      "outputs": [
        {
          "name": "stdout",
          "output_type": "stream",
          "text": [
            "✅ 실행 함수 정의 완료!\n"
          ]
        }
      ],
      "source": [
        "def run_basic_agent(app, question: str):\n",
        "    \"\"\"기본 SQL Agent를 실행합니다.\"\"\"\n",
        "    \n",
        "    config = {\"configurable\": {\"thread_id\": \"basic_sql_agent\"}}\n",
        "    \n",
        "    inputs = {\n",
        "        \"messages\": [HumanMessage(content=question)]\n",
        "    }\n",
        "    \n",
        "    print(f\"\\n📋 질문: {question}\")\n",
        "    print(\"=\" * 50)\n",
        "    \n",
        "    for output in app.stream(inputs, config):\n",
        "        for key, value in output.items():\n",
        "            print(f\"\\n🔄 {key}:\")\n",
        "            if \"messages\" in value:\n",
        "                last_message = value[\"messages\"][-1]\n",
        "                if hasattr(last_message, 'content') and last_message.content:\n",
        "                    print(f\"내용: {last_message.content}\")\n",
        "                if hasattr(last_message, 'tool_calls') and last_message.tool_calls:\n",
        "                    for tool_call in last_message.tool_calls:\n",
        "                        print(f\"도구 호출: {tool_call['name']}\")\n",
        "                        print(f\"쿼리: {tool_call['args']['query']}\")\n",
        "\n",
        "print(\"✅ 실행 함수 정의 완료!\")\n"
      ]
    },
    {
      "cell_type": "markdown",
      "metadata": {},
      "source": [
        "## 6. 기본 테스트 실행\n",
        "\n",
        "간단한 질문으로 Agent를 테스트해봅시다.\n"
      ]
    },
    {
      "cell_type": "code",
      "execution_count": 6,
      "metadata": {},
      "outputs": [
        {
          "name": "stdout",
          "output_type": "stream",
          "text": [
            "\n",
            "📋 질문: 데이터베이스에 어떤 테이블들이 있나요?\n",
            "==================================================\n",
            "\n",
            "🔄 agent:\n",
            "도구 호출: execute_sql_query\n",
            "쿼리: SELECT name FROM sqlite_master WHERE type='table';\n",
            "\n",
            "🔄 tools:\n",
            "내용: [('Album',), ('Artist',), ('Customer',), ('Employee',), ('Genre',), ('Invoice',), ('InvoiceLine',), ('MediaType',), ('Playlist',), ('PlaylistTrack',), ('Track',)]\n",
            "\n",
            "🔄 agent:\n",
            "내용: 데이터베이스에는 다음과 같은 테이블들이 있습니다:\n",
            "\n",
            "1. Album\n",
            "2. Artist\n",
            "3. Customer\n",
            "4. Employee\n",
            "5. Genre\n",
            "6. Invoice\n",
            "7. InvoiceLine\n",
            "8. MediaType\n",
            "9. Playlist\n",
            "10. PlaylistTrack\n",
            "11. Track\n",
            "\n",
            "각 테이블은 음악 스토어와 관련된 다양한 정보를 저장하고 있습니다. 추가적인 질문이 있으시면 말씀해 주세요!\n"
          ]
        }
      ],
      "source": [
        "# 첫 번째 테스트: 테이블 목록 조회\n",
        "run_basic_agent(app, \"데이터베이스에 어떤 테이블들이 있나요?\")\n"
      ]
    },
    {
      "cell_type": "code",
      "execution_count": 7,
      "metadata": {},
      "outputs": [
        {
          "name": "stdout",
          "output_type": "stream",
          "text": [
            "\n",
            "📋 질문: 가장 인기 있는 아티스트 10명을 보여주세요\n",
            "==================================================\n",
            "\n",
            "🔄 agent:\n",
            "도구 호출: execute_sql_query\n",
            "쿼리: SELECT Artist.Name, COUNT(InvoiceLine.TrackId) AS SalesCount \n",
            "FROM Artist \n",
            "JOIN Album ON Artist.ArtistId = Album.ArtistId \n",
            "JOIN Track ON Album.AlbumId = Track.AlbumId \n",
            "JOIN InvoiceLine ON Track.TrackId = InvoiceLine.TrackId \n",
            "GROUP BY Artist.ArtistId \n",
            "ORDER BY SalesCount DESC \n",
            "LIMIT 10;\n",
            "\n",
            "🔄 tools:\n",
            "내용: [('Iron Maiden', 140), ('U2', 107), ('Metallica', 91), ('Led Zeppelin', 87), ('Os Paralamas Do Sucesso', 45), ('Deep Purple', 44), ('Faith No More', 42), ('Lost', 41), ('Eric Clapton', 40), ('R.E.M.', 39)]\n",
            "\n",
            "🔄 agent:\n",
            "내용: 가장 인기 있는 아티스트 10명은 다음과 같습니다:\n",
            "\n",
            "1. **Iron Maiden** - 140회 판매\n",
            "2. **U2** - 107회 판매\n",
            "3. **Metallica** - 91회 판매\n",
            "4. **Led Zeppelin** - 87회 판매\n",
            "5. **Os Paralamas Do Sucesso** - 45회 판매\n",
            "6. **Deep Purple** - 44회 판매\n",
            "7. **Faith No More** - 42회 판매\n",
            "8. **Lost** - 41회 판매\n",
            "9. **Eric Clapton** - 40회 판매\n",
            "10. **R.E.M.** - 39회 판매\n",
            "\n",
            "이 아티스트들은 판매량 기준으로 가장 인기가 많습니다. 추가적인 정보가 필요하시면 말씀해 주세요!\n"
          ]
        }
      ],
      "source": [
        "# 두 번째 테스트: 아티스트 조회\n",
        "run_basic_agent(app, \"가장 인기 있는 아티스트 10명을 보여주세요\")\n"
      ]
    },
    {
      "cell_type": "code",
      "execution_count": null,
      "metadata": {},
      "outputs": [],
      "source": [
        "# 세 번째 테스트: 매출 조회\n",
        "run_basic_agent(app, \"2009년에 총 얼마의 매출이 있었나요?\")\n"
      ]
    },
    {
      "cell_type": "code",
      "execution_count": null,
      "metadata": {},
      "outputs": [],
      "source": [
        "# 네 번째 테스트: 국가별 고객 수\n",
        "run_basic_agent(app, \"각 국가별 고객 수를 알려주세요\")\n"
      ]
    },
    {
      "cell_type": "markdown",
      "metadata": {},
      "source": [
        "## 7. 추가 실습\n",
        "\n",
        "### 실습 문제들\n",
        "아래 질문들로 추가 실습을 해보세요!\n"
      ]
    },
    {
      "cell_type": "code",
      "execution_count": null,
      "metadata": {},
      "outputs": [],
      "source": [
        "# 추가 실습 문제들을 직접 실행해보세요!\n",
        "\n",
        "practice_questions = [\n",
        "    \"Led Zeppelin의 앨범을 모두 보여주세요\",\n",
        "    \"가장 비싼 음악 트랙 5개는 무엇인가요?\",\n",
        "    \"직원 중에 누가 가장 많은 고객을 담당하고 있나요?\",\n",
        "    \"Rock 장르의 음악이 몇 개나 있나요?\"\n",
        "]\n",
        "\n",
        "# 원하는 질문을 선택해서 실행해보세요\n",
        "# 예시:\n",
        "# run_basic_agent(app, practice_questions[0])\n",
        "\n",
        "print(\"🎯 실습 문제 목록:\")\n",
        "for i, question in enumerate(practice_questions, 1):\n",
        "    print(f\"{i}. {question}\")\n",
        "print(\"\\n위의 질문들 중 하나를 선택해서 run_basic_agent(app, practice_questions[인덱스])로 실행해보세요!\")\n"
      ]
    },
    {
      "cell_type": "markdown",
      "metadata": {},
      "source": [
        "## 8. 마무리 및 다음 단계\n",
        "\n",
        "### 이 튜토리얼에서 배운 것들:\n",
        "1. ✅ SQL 데이터베이스와 상호작용하는 기본적인 Agent 구조\n",
        "2. ✅ LangGraph를 사용한 간단한 워크플로우 구현  \n",
        "3. ✅ SQL 도구 사용법 및 기본적인 오류 처리\n",
        "4. ✅ Agent 실행 및 테스트 방법\n",
        "\n",
        "### 다음 학습 단계:\n",
        "- `02_advanced_sql_agent.ipynb`: 실무 수준의 고급 SQL Agent 학습\n",
        "- 복잡한 워크플로우와 향상된 오류 처리 방법\n",
        "- 쿼리 검증 시스템 및 성능 모니터링\n",
        "\n",
        "### 주요 개선점들:\n",
        "- 더 정교한 상태 관리\n",
        "- 단계별 워크플로우 (테이블 → 스키마 → 쿼리 → 검증 → 실행)\n",
        "- 보안 강화 및 성능 최적화\n",
        "\n",
        "축하합니다! 🎉 기본 SQL Agent를 성공적으로 구현했습니다!\n"
      ]
    },
    {
      "cell_type": "markdown",
      "metadata": {},
      "source": [
        "## 7. 추가 실습 및 커스터마이징\n",
        "\n",
        "### 실습 문제\n",
        "아래 질문들로 추가 실습을 해보세요:\n",
        "\n",
        "1. \"Led Zeppelin의 앨범을 모두 보여주세요\"\n",
        "2. \"가장 비싼 음악 트랙 5개는 무엇인가요?\"\n",
        "3. \"직원 중에 누가 가장 많은 고객을 담당하고 있나요?\"\n",
        "4. \"Rock 장르의 음악이 몇 개나 있나요?\"\n",
        "\n",
        "### 커스터마이징 아이디어\n",
        "- 다른 데이터베이스 연결\n",
        "- 추가 도구 구현 (차트 생성, 데이터 시각화 등)\n",
        "- 더 정교한 오류 처리\n",
        "- 쿼리 결과 포맷팅 개선\n"
      ]
    },
    {
      "cell_type": "markdown",
      "metadata": {},
      "source": []
    },
    {
      "cell_type": "markdown",
      "metadata": {},
      "source": []
    },
    {
      "cell_type": "markdown",
      "metadata": {},
      "source": []
    }
  ],
  "metadata": {
    "kernelspec": {
      "display_name": "langchain-kr-eFcG9GHP-py3.11",
      "language": "python",
      "name": "python3"
    },
    "language_info": {
      "codemirror_mode": {
        "name": "ipython",
        "version": 3
      },
      "file_extension": ".py",
      "mimetype": "text/x-python",
      "name": "python",
      "nbconvert_exporter": "python",
      "pygments_lexer": "ipython3",
      "version": "3.11.13"
    }
  },
  "nbformat": 4,
  "nbformat_minor": 2
}
