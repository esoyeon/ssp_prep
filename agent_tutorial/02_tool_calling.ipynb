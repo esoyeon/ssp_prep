{
  "cells": [
    {
      "cell_type": "markdown",
      "metadata": {},
      "source": [
        "# LangChain Tool, Tool Calling, Agent 튜토리얼\n",
        "\n",
        "이 노트북은 LangChain의 핵심 개념인 **Tool**, **Tool Calling**, **Agent**를 단계별로 학습할 수 있도록 구성되었습니다.\n",
        "\n",
        "## 📚 학습 목차\n",
        "\n",
        "1. **Tool 기초** - 첫 번째 Tool 만들기\n",
        "2. **Tool Calling** - LLM이 Tool을 호출하는 방법\n",
        "3. **Agent** - 복잡한 문제를 단계별로 해결하기\n",
        "\n",
        "---\n",
        "\n",
        "## 🎯 학습 목표\n",
        "\n",
        "이 노트북을 완료하면:\n",
        "- Tool을 직접 만들 수 있습니다\n",
        "- LLM이 Tool을 자동으로 사용하도록 설정할 수 있습니다  \n",
        "- 복잡한 업무를 처리하는 Agent를 개발할 수 있습니다\n",
        "\n",
        "---\n",
        "\n",
        "## ⚙️ 환경 설정\n",
        "\n",
        "먼저 필요한 패키지를 설치하고 API 키를 설정해야 합니다.\n"
      ]
    },
    {
      "cell_type": "code",
      "execution_count": 2,
      "metadata": {},
      "outputs": [
        {
          "name": "stdout",
          "output_type": "stream",
          "text": [
            "✅ 패키지 로드 완료!\n",
            "⚠️  OpenAI API 키가 설정되어 있는지 확인하세요!\n",
            "   (.env 파일에 OPENAI_API_KEY=your_key_here)\n"
          ]
        }
      ],
      "source": [
        "# 필요한 패키지 설치 (주석 해제해서 실행)\n",
        "# !pip install langchain langchain-openai python-dotenv\n",
        "\n",
        "# 패키지 import\n",
        "from langchain.tools import tool\n",
        "from langchain_openai import ChatOpenAI\n",
        "from langchain.agents import create_tool_calling_agent, AgentExecutor\n",
        "from langchain_core.prompts import ChatPromptTemplate\n",
        "from langchain_core.messages import HumanMessage, SystemMessage\n",
        "from typing import Annotated\n",
        "import random\n",
        "from datetime import datetime\n",
        "\n",
        "# API 키 로드\n",
        "from dotenv import load_dotenv\n",
        "load_dotenv()\n",
        "\n",
        "print(\"✅ 패키지 로드 완료!\")\n",
        "print(\"⚠️  OpenAI API 키가 설정되어 있는지 확인하세요!\")\n",
        "print(\"   (.env 파일에 OPENAI_API_KEY=your_key_here)\")\n"
      ]
    },
    {
      "cell_type": "markdown",
      "metadata": {},
      "source": [
        "# 2️⃣ Tool Calling\n",
        "\n",
        "## Tool Calling이란?\n",
        "**Tool Calling**은 LLM이 주어진 문제를 해결하기 위해 적절한 Tool을 선택하고 실행하는 과정입니다.\n",
        "\n",
        "### 과정:\n",
        "1. 🗣️ 사용자가 질문을 합니다\n",
        "2. 🧠 LLM이 질문을 분석해서 어떤 Tool이 필요한지 판단\n",
        "3. 🔧 LLM이 Tool을 호출하고 결과를 받음\n",
        "4. 💬 LLM이 결과를 바탕으로 최종 답변 생성\n",
        "\n",
        "이렇게 하면 LLM이 계산, 검색, 데이터 처리 등을 할 수 있게 됩니다!\n"
      ]
    },
    {
      "cell_type": "code",
      "execution_count": 3,
      "metadata": {},
      "outputs": [
        {
          "name": "stdout",
          "output_type": "stream",
          "text": [
            "✅ Tool Calling용 Tool들이 준비되었습니다!\n",
            "- math_calculator: 사칙연산\n",
            "- user_database: 사용자 정보 조회\n",
            "- time_checker: 현재 시간\n",
            "\n",
            "💡 중요: 노트북에서는 Tool 이름이 중복되지 않도록 주의하세요!\n"
          ]
        }
      ],
      "source": [
        "# 🔄 노트북 실행 시 주의사항: 이전 Tool들과 이름이 겹치지 않도록 주의!\n",
        "\n",
        "# Tool Calling용 Tool들 준비하기 (새로운 이름으로)\n",
        "@tool\n",
        "def math_calculator(\n",
        "    operation: Annotated[str, \"연산 종류: add, subtract, multiply, divide\"], \n",
        "    a: Annotated[float, \"첫 번째 숫자\"], \n",
        "    b: Annotated[float, \"두 번째 숫자\"]\n",
        ") -> float:\n",
        "    \"\"\"수학 계산을 수행하는 계산기입니다.\"\"\"\n",
        "    \n",
        "    if operation == \"add\":\n",
        "        result = a + b\n",
        "        print(f\"계산: {a} + {b} = {result}\")\n",
        "    elif operation == \"subtract\":\n",
        "        result = a - b\n",
        "        print(f\"계산: {a} - {b} = {result}\")\n",
        "    elif operation == \"multiply\":\n",
        "        result = a * b\n",
        "        print(f\"계산: {a} × {b} = {result}\")\n",
        "    elif operation == \"divide\":\n",
        "        if b == 0:\n",
        "            return \"0으로 나눌 수 없습니다!\"\n",
        "        result = a / b\n",
        "        print(f\"계산: {a} ÷ {b} = {result}\")\n",
        "    else:\n",
        "        return f\"지원하지 않는 연산입니다: {operation}\"\n",
        "    \n",
        "    return result\n",
        "\n",
        "@tool\n",
        "def user_database(name: Annotated[str, \"사용자 이름\"]) -> dict:\n",
        "    \"\"\"사용자 정보를 조회하는 가짜 데이터베이스입니다.\"\"\"\n",
        "    \n",
        "    # 가짜 사용자 데이터베이스\n",
        "    users_db = {\n",
        "        \"김철수\": {\"나이\": 25, \"직업\": \"개발자\", \"취미\": \"독서\"},\n",
        "        \"이영희\": {\"나이\": 30, \"직업\": \"디자이너\", \"취미\": \"그림그리기\"},\n",
        "        \"박민수\": {\"나이\": 28, \"직업\": \"데이터분석가\", \"취미\": \"영화감상\"},\n",
        "    }\n",
        "    \n",
        "    if name in users_db:\n",
        "        result = users_db[name]\n",
        "        print(f\"{name}님의 정보를 찾았습니다: {result}\")\n",
        "        return result\n",
        "    else:\n",
        "        return {\"오류\": f\"{name}님의 정보를 찾을 수 없습니다.\"}\n",
        "\n",
        "@tool  \n",
        "def time_checker() -> str:\n",
        "    \"\"\"현재 시간을 반환합니다.\"\"\"\n",
        "    now = datetime.now()\n",
        "    time_str = now.strftime(\"%Y년 %m월 %d일 %H시 %M분\")\n",
        "    print(f\"현재 시간: {time_str}\")\n",
        "    return time_str\n",
        "\n",
        "print(\"✅ Tool Calling용 Tool들이 준비되었습니다!\")\n",
        "print(\"- math_calculator: 사칙연산\")\n",
        "print(\"- user_database: 사용자 정보 조회\") \n",
        "print(\"- time_checker: 현재 시간\")\n",
        "print()\n",
        "print(\"💡 중요: 노트북에서는 Tool 이름이 중복되지 않도록 주의하세요!\")\n"
      ]
    },
    {
      "cell_type": "markdown",
      "metadata": {},
      "source": [
        "## LLM에 Tool 연결하기\n",
        "\n",
        "이제 LLM이 이 Tool들을 사용할 수 있도록 연결해봅시다!\n"
      ]
    },
    {
      "cell_type": "code",
      "execution_count": 4,
      "metadata": {},
      "outputs": [
        {
          "name": "stdout",
          "output_type": "stream",
          "text": [
            "🔗 LLM에 Tool들이 연결되었습니다!\n",
            "이제 LLM이 필요에 따라 Tool을 자동으로 사용할 수 있습니다!\n"
          ]
        }
      ],
      "source": [
        "# LLM 모델 설정\n",
        "llm = ChatOpenAI(\n",
        "    model=\"gpt-4o-mini\",\n",
        "    temperature=0,  # 일관된 결과를 위해 0으로 설정\n",
        ")\n",
        "\n",
        "# Tool 목록 (새로운 이름으로 업데이트)\n",
        "tools_for_calling = [math_calculator, user_database, time_checker]\n",
        "\n",
        "# LLM에 Tool을 사용할 수 있도록 연결 ⭐ 이게 핵심!\n",
        "llm_with_tools = llm.bind_tools(tools_for_calling)\n",
        "\n",
        "print(\"🔗 LLM에 Tool들이 연결되었습니다!\")\n",
        "print(\"이제 LLM이 필요에 따라 Tool을 자동으로 사용할 수 있습니다!\")\n"
      ]
    },
    {
      "cell_type": "markdown",
      "metadata": {},
      "source": [
        "## Tool Calling 실습\n",
        "\n",
        "이제 LLM이 실제로 Tool을 호출하는지 확인해봅시다!\n"
      ]
    },
    {
      "cell_type": "code",
      "execution_count": 5,
      "metadata": {},
      "outputs": [
        {
          "name": "stdout",
          "output_type": "stream",
          "text": [
            "🔢 예시 1: 계산 요청\n",
            "사용자 질문: 15에 23을 곱한 다음, 결과에서 47을 빼주세요\n",
            "\n",
            "LLM 응답 내용: \n",
            "\n",
            "🔧 LLM이 호출한 Tool 개수: 1\n",
            "\n",
            "Tool 호출 1:\n",
            "  - Tool 이름: math_calculator\n",
            "  - 파라미터: {'operation': 'multiply', 'a': 15, 'b': 23}\n",
            "계산: 15.0 × 23.0 = 345.0\n",
            "  - 실행 결과: 345.0\n"
          ]
        }
      ],
      "source": [
        "# 예시 1: 계산 요청\n",
        "print(\"🔢 예시 1: 계산 요청\")\n",
        "user_question = \"15에 23을 곱한 다음, 결과에서 47을 빼주세요\"\n",
        "print(f\"사용자 질문: {user_question}\")\n",
        "\n",
        "# LLM에게 질문 전달\n",
        "messages = [\n",
        "    SystemMessage(content=\"당신은 도움이 되는 AI 어시스턴트입니다. 주어진 도구들을 사용해서 사용자의 질문에 답해주세요.\"),\n",
        "    HumanMessage(content=user_question)\n",
        "]\n",
        "\n",
        "# LLM이 응답 생성 (Tool 호출 포함)\n",
        "response = llm_with_tools.invoke(messages)\n",
        "\n",
        "print(f\"\\nLLM 응답 내용: {response.content}\")\n",
        "\n",
        "# Tool 호출이 있는지 확인\n",
        "if response.tool_calls:\n",
        "    print(f\"\\n🔧 LLM이 호출한 Tool 개수: {len(response.tool_calls)}\")\n",
        "    \n",
        "    for i, tool_call in enumerate(response.tool_calls, 1):\n",
        "        print(f\"\\nTool 호출 {i}:\")\n",
        "        print(f\"  - Tool 이름: {tool_call['name']}\")\n",
        "        print(f\"  - 파라미터: {tool_call['args']}\")\n",
        "        \n",
        "        # 실제로 Tool 실행\n",
        "        for tool in tools_for_calling:\n",
        "            if tool.name == tool_call['name']:\n",
        "                result = tool.invoke(tool_call['args'])\n",
        "                print(f\"  - 실행 결과: {result}\")\n",
        "                break\n",
        "else:\n",
        "    print(\"Tool을 호출하지 않았습니다.\")\n"
      ]
    },
    {
      "cell_type": "code",
      "execution_count": null,
      "metadata": {},
      "outputs": [],
      "source": [
        "# 예시 2: 사용자 정보 조회\n",
        "print(\"👤 예시 2: 사용자 정보 조회\")\n",
        "user_question = \"김철수의 정보를 알려주세요\"\n",
        "print(f\"사용자 질문: {user_question}\")\n",
        "\n",
        "messages = [\n",
        "    SystemMessage(content=\"당신은 도움이 되는 AI 어시스턴트입니다. 주어진 도구들을 사용해서 사용자의 질문에 답해주세요.\"),\n",
        "    HumanMessage(content=user_question)\n",
        "]\n",
        "\n",
        "response = llm_with_tools.invoke(messages)\n",
        "print(f\"응답 내용: {response.content}\")\n",
        "\n",
        "if response.tool_calls:\n",
        "    print(f\"\\n🔧 LLM이 호출한 Tool:\")\n",
        "    for tool_call in response.tool_calls:\n",
        "        print(f\"  - Tool: {tool_call['name']}\")\n",
        "        print(f\"  - 파라미터: {tool_call['args']}\")\n",
        "        \n",
        "        # Tool 실행\n",
        "        for tool in tools_for_calling:\n",
        "            if tool.name == tool_call['name']:\n",
        "                result = tool.invoke(tool_call['args'])\n",
        "                print(f\"  - 결과: {result}\")\n",
        "                break\n"
      ]
    },
    {
      "cell_type": "markdown",
      "metadata": {},
      "source": [
        "## 🎯 Tool Calling 작동 원리\n",
        "\n",
        "1. **🧠 LLM이 사용자 질문을 분석**\n",
        "   - \"15에 23을 곱한 다음, 47을 빼주세요\"\n",
        "   - → 이건 수학 계산이니까 calculator tool이 필요하겠네!\n",
        "\n",
        "2. **🔧 LLM이 Tool 호출 계획 수립**\n",
        "   - 첫 번째: calculator(operation=\"multiply\", a=15, b=23)\n",
        "   - 두 번째: calculator(operation=\"subtract\", a=결과, b=47)\n",
        "\n",
        "3. **⚡ Tool 실행**\n",
        "   - 15 × 23 = 345\n",
        "   - 345 - 47 = 298\n",
        "\n",
        "4. **💬 최종 답변 생성**\n",
        "   - \"계산 결과는 298입니다.\"\n"
      ]
    },
    {
      "cell_type": "code",
      "execution_count": null,
      "metadata": {},
      "outputs": [],
      "source": []
    }
  ],
  "metadata": {
    "kernelspec": {
      "display_name": "langchain-kr-eFcG9GHP-py3.11",
      "language": "python",
      "name": "python3"
    },
    "language_info": {
      "codemirror_mode": {
        "name": "ipython",
        "version": 3
      },
      "file_extension": ".py",
      "mimetype": "text/x-python",
      "name": "python",
      "nbconvert_exporter": "python",
      "pygments_lexer": "ipython3",
      "version": "3.11.13"
    }
  },
  "nbformat": 4,
  "nbformat_minor": 2
}
