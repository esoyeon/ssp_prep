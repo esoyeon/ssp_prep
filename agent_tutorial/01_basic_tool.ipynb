{
  "cells": [
    {
      "cell_type": "markdown",
      "metadata": {},
      "source": [
        "# LangChain Tool, Tool Calling, Agent 튜토리얼\n",
        "\n",
        "이 노트북은 LangChain의 핵심 개념인 **Tool**, **Tool Calling**, **Agent**를 단계별로 학습할 수 있도록 구성되었습니다.\n",
        "\n",
        "## 📚 학습 목차\n",
        "\n",
        "1. **Tool 기초** - 첫 번째 Tool 만들기\n",
        "2. **Tool Calling** - LLM이 Tool을 호출하는 방법\n",
        "3. **Agent** - 복잡한 문제를 단계별로 해결하기\n",
        "\n",
        "---\n",
        "\n",
        "## 🎯 학습 목표\n",
        "\n",
        "이 노트북을 완료하면:\n",
        "- Tool을 직접 만들 수 있습니다\n",
        "- LLM이 Tool을 자동으로 사용하도록 설정할 수 있습니다  \n",
        "- 복잡한 업무를 처리하는 Agent를 개발할 수 있습니다\n",
        "\n",
        "---\n",
        "\n",
        "## ⚙️ 환경 설정\n",
        "\n",
        "먼저 필요한 패키지를 설치하고 API 키를 설정해야 합니다.\n"
      ]
    },
    {
      "cell_type": "code",
      "execution_count": 2,
      "metadata": {},
      "outputs": [
        {
          "name": "stdout",
          "output_type": "stream",
          "text": [
            "✅ 패키지 로드 완료!\n",
            "⚠️  OpenAI API 키가 설정되어 있는지 확인하세요!\n",
            "   (.env 파일에 OPENAI_API_KEY=your_key_here)\n"
          ]
        }
      ],
      "source": [
        "# 필요한 패키지 설치 (주석 해제해서 실행)\n",
        "# !pip install langchain langchain-openai python-dotenv\n",
        "\n",
        "# 패키지 import\n",
        "from langchain.tools import tool\n",
        "from langchain_openai import ChatOpenAI\n",
        "from langchain.agents import create_tool_calling_agent, AgentExecutor\n",
        "from langchain_core.prompts import ChatPromptTemplate\n",
        "from langchain_core.messages import HumanMessage, SystemMessage\n",
        "from typing import Annotated\n",
        "import random\n",
        "from datetime import datetime\n",
        "\n",
        "# API 키 로드\n",
        "from dotenv import load_dotenv\n",
        "load_dotenv()\n",
        "\n",
        "print(\"✅ 패키지 로드 완료!\")\n",
        "print(\"⚠️  OpenAI API 키가 설정되어 있는지 확인하세요!\")\n",
        "print(\"   (.env 파일에 OPENAI_API_KEY=your_key_here)\")\n"
      ]
    },
    {
      "cell_type": "markdown",
      "metadata": {},
      "source": [
        "# 1️⃣ Tool 기초\n",
        "\n",
        "## Tool이란?\n",
        "**Tool**은 LLM(AI 모델)이 특정 작업을 수행할 수 있도록 해주는 함수입니다.\n",
        "\n",
        "예를 들어:\n",
        "- 🧮 계산기 역할을 하는 Tool\n",
        "- 🔍 웹 검색을 하는 Tool  \n",
        "- 📁 파일을 읽는 Tool\n",
        "- 💾 데이터베이스를 조회하는 Tool\n",
        "\n",
        "LLM은 텍스트만 생성할 수 있지만, Tool을 통해 실제 작업을 수행할 수 있게 됩니다!\n",
        "\n",
        "## 첫 번째 Tool 만들기\n"
      ]
    },
    {
      "cell_type": "code",
      "execution_count": 3,
      "metadata": {},
      "outputs": [
        {
          "name": "stdout",
          "output_type": "stream",
          "text": [
            "=== Tool 정보 ===\n",
            "Tool 이름: simple_calculator\n",
            "Tool 설명: 두 숫자를 더하는 간단한 계산기입니다.\n",
            "Tool 파라미터: {'a': {'description': '첫 번째 숫자', 'title': 'A', 'type': 'integer'}, 'b': {'description': '두 번째 숫자', 'title': 'B', 'type': 'integer'}}\n",
            "\n",
            "=== Tool 실행 ===\n",
            "계산 결과: 5 + 3 = 8\n",
            "직접 실행 결과: 8\n"
          ]
        }
      ],
      "source": [
        "# 가장 기본적인 Tool 만들기\n",
        "@tool\n",
        "def simple_calculator(\n",
        "    a: Annotated[int, \"첫 번째 숫자\"], \n",
        "    b: Annotated[int, \"두 번째 숫자\"]\n",
        ") -> int:\n",
        "    \"\"\"두 숫자를 더하는 간단한 계산기입니다.\"\"\"\n",
        "    result = a + b\n",
        "    print(f\"계산 결과: {a} + {b} = {result}\")\n",
        "    return result\n",
        "\n",
        "# Tool의 정보 확인\n",
        "print(\"=== Tool 정보 ===\")\n",
        "print(f\"Tool 이름: {simple_calculator.name}\")\n",
        "print(f\"Tool 설명: {simple_calculator.description}\")\n",
        "print(f\"Tool 파라미터: {simple_calculator.args}\")\n",
        "print()\n",
        "\n",
        "# Tool 직접 실행해보기\n",
        "print(\"=== Tool 실행 ===\")\n",
        "result = simple_calculator.invoke({\"a\": 5, \"b\": 3}) ## 사람이 직접 Tool 호출 -> Tool의 기능 실행\n",
        "print(f\"직접 실행 결과: {result}\")\n"
      ]
    },
    {
      "cell_type": "markdown",
      "metadata": {},
      "source": [
        "## 더 복잡한 Tool들 만들기\n",
        "\n",
        "이제 좀 더 실용적인 Tool들을 만들어봅시다.\n"
      ]
    },
    {
      "cell_type": "code",
      "execution_count": 4,
      "metadata": {},
      "outputs": [
        {
          "name": "stdout",
          "output_type": "stream",
          "text": [
            "=== 텍스트 분석 Tool 테스트 ===\n",
            "분석 결과: {'단어_개수': 7, '문자_개수': 42, '공백_제외_문자_개수': 36, '가장_긴_단어': 'LangChain', '가장_긴_단어_길이': 9}\n",
            "\n",
            "=== 날씨 정보 Tool 테스트 ===\n",
            "날씨 정보: 서울의 현재 날씨: 흐림, 기온: 30°C\n",
            "\n",
            "=== 사용 가능한 Tool 목록 ===\n",
            "1. simple_calculator: 두 숫자를 더하는 간단한 계산기입니다.\n",
            "2. text_analyzer: 텍스트를 분석해서 다양한 정보를 반환합니다.\n",
            "3. weather_info: 가짜 날씨 정보를 제공합니다 (실제 API 연결 없음).\n"
          ]
        }
      ],
      "source": [
        "# 텍스트 분석 Tool\n",
        "@tool\n",
        "def text_analyzer(text: Annotated[str, \"분석할 텍스트\"]) -> dict:\n",
        "    \"\"\"텍스트를 분석해서 다양한 정보를 반환합니다.\"\"\"\n",
        "    \n",
        "    words = text.split()\n",
        "    word_count = len(words)\n",
        "    char_count = len(text)\n",
        "    char_count_no_space = len(text.replace(\" \", \"\"))\n",
        "    longest_word = max(words, key=len) if words else \"\"\n",
        "    \n",
        "    result = {\n",
        "        \"단어_개수\": word_count,\n",
        "        \"문자_개수\": char_count,\n",
        "        \"공백_제외_문자_개수\": char_count_no_space,\n",
        "        \"가장_긴_단어\": longest_word,\n",
        "        \"가장_긴_단어_길이\": len(longest_word)\n",
        "    }\n",
        "    \n",
        "    return result\n",
        "\n",
        "# 가짜 날씨 정보 Tool\n",
        "@tool\n",
        "def weather_info(city: Annotated[str, \"도시 이름\"]) -> str:\n",
        "    \"\"\"가짜 날씨 정보를 제공합니다 (실제 API 연결 없음).\"\"\"\n",
        "    \n",
        "    temperatures = [15, 18, 22, 25, 28, 30, 12, 8]\n",
        "    weather_conditions = [\"맑음\", \"흐림\", \"비\", \"눈\", \"안개\"]\n",
        "    \n",
        "    temp = random.choice(temperatures)\n",
        "    condition = random.choice(weather_conditions)\n",
        "    \n",
        "    return f\"{city}의 현재 날씨: {condition}, 기온: {temp}°C\"\n",
        "\n",
        "# Tool들 테스트\n",
        "print(\"=== 텍스트 분석 Tool 테스트 ===\")\n",
        "sample_text = \"안녕하세요! LangChain Tool을 배우고 있습니다. 정말 재미있어요!\"\n",
        "analysis_result = text_analyzer.invoke({\"text\": sample_text})\n",
        "print(f\"분석 결과: {analysis_result}\")\n",
        "\n",
        "print(\"\\n=== 날씨 정보 Tool 테스트 ===\")\n",
        "weather_result = weather_info.invoke({\"city\": \"서울\"})\n",
        "print(f\"날씨 정보: {weather_result}\")\n",
        "\n",
        "# Tool 목록 관리\n",
        "my_tools = [simple_calculator, text_analyzer, weather_info]\n",
        "print(f\"\\n=== 사용 가능한 Tool 목록 ===\")\n",
        "for i, tool in enumerate(my_tools, 1):\n",
        "    print(f\"{i}. {tool.name}: {tool.description}\")\n"
      ]
    },
    {
      "cell_type": "markdown",
      "metadata": {},
      "source": [
        "## 🎯 Tool 핵심 포인트\n",
        "\n",
        "- ✅ `@tool` 데코레이터로 일반 함수를 Tool로 변환\n",
        "- ✅ `Annotated`로 파라미터 설명 추가\n",
        "- ✅ docstring으로 Tool 기능 설명\n",
        "- ✅ `tool.invoke()`로 직접 실행 가능\n",
        "- ✅ 여러 Tool을 리스트로 관리"
      ]
    }
  ],
  "metadata": {
    "kernelspec": {
      "display_name": "langchain-kr-eFcG9GHP-py3.11",
      "language": "python",
      "name": "python3"
    },
    "language_info": {
      "codemirror_mode": {
        "name": "ipython",
        "version": 3
      },
      "file_extension": ".py",
      "mimetype": "text/x-python",
      "name": "python",
      "nbconvert_exporter": "python",
      "pygments_lexer": "ipython3",
      "version": "3.11.13"
    }
  },
  "nbformat": 4,
  "nbformat_minor": 2
}
